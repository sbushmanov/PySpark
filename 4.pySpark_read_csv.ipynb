{
 "cells": [
  {
   "cell_type": "markdown",
   "metadata": {
    "toc": true
   },
   "source": [
    "<h1>Table of Contents<span class=\"tocSkip\"></span></h1>\n",
    "<div class=\"toc\"><ul class=\"toc-item\"><li><span><a href=\"#Reading-csv-with-customSchema\" data-toc-modified-id=\"Reading-csv-with-customSchema-1\"><span class=\"toc-item-num\">1&nbsp;&nbsp;</span>Reading csv with customSchema</a></span></li><li><span><a href=\"#Type-inference-by-Reflection\" data-toc-modified-id=\"Type-inference-by-Reflection-2\"><span class=\"toc-item-num\">2&nbsp;&nbsp;</span>Type inference by Reflection</a></span></li></ul></div>"
   ]
  },
  {
   "cell_type": "code",
   "execution_count": 2,
   "metadata": {
    "ExecuteTime": {
     "end_time": "2021-12-07T18:03:51.736068Z",
     "start_time": "2021-12-07T18:03:51.702404Z"
    }
   },
   "outputs": [
    {
     "data": {
      "text/plain": [
       "[('spark.driver.port', '10879'),\n",
       " ('spark.app.id', 'local-1638900019272'),\n",
       " ('spark.executor.id', 'driver'),\n",
       " ('spark.driver.host', '192.168.199.77'),\n",
       " ('spark.hadoop.fs.default.name', 'hdfs://localhost:9000'),\n",
       " ('spark.app.name', 'pyspark-shell'),\n",
       " ('spark.sql.warehouse.dir', '/user/hive/warehouse'),\n",
       " ('spark.sql.catalogImplementation', 'hive'),\n",
       " ('spark.rdd.compress', 'True'),\n",
       " ('spark.app.startTime', '1638900018523'),\n",
       " ('spark.hadoop.fs.defaultFS', 'hdfs://localhost:9000'),\n",
       " ('spark.serializer.objectStreamReset', '100'),\n",
       " ('spark.master', 'local[*]'),\n",
       " ('spark.submit.pyFiles', ''),\n",
       " ('spark.submit.deployMode', 'client'),\n",
       " ('spark.ui.showConsoleProgress', 'true')]"
      ]
     },
     "execution_count": 2,
     "metadata": {},
     "output_type": "execute_result"
    }
   ],
   "source": [
    "from pyspark.sql import SparkSession\n",
    "spark = (\n",
    "    SparkSession.builder.\n",
    "    appName(\"test\").\n",
    "    enableHiveSupport().\n",
    "    config(\"spark.sql.warehouse.dir\",\"/user/hive/warehouse\").\n",
    "    getOrCreate()\n",
    ")\n",
    "\n",
    "spark.sparkContext.getConf().getAll()"
   ]
  },
  {
   "cell_type": "markdown",
   "metadata": {},
   "source": [
    "# Reading csv with customSchema"
   ]
  },
  {
   "cell_type": "code",
   "execution_count": 4,
   "metadata": {},
   "outputs": [
    {
     "name": "stdout",
     "output_type": "stream",
     "text": [
      "+---+---------------+---------------+--------------------+\n",
      "| id|bikes_available|docks_available|                time|\n",
      "+---+---------------+---------------+--------------------+\n",
      "|  2|             12|             15|2014-03-01 00:00:...|\n",
      "|  2|             12|             15|2014-03-01 00:01:...|\n",
      "|  2|             12|             15|2014-03-01 00:02:...|\n",
      "|  2|             12|             15|2014-03-01 00:03:...|\n",
      "|  2|             12|             15|2014-03-01 00:04:...|\n",
      "+---+---------------+---------------+--------------------+\n",
      "only showing top 5 rows\n",
      "\n"
     ]
    }
   ],
   "source": [
    "from pyspark.sql.types import *\n",
    "\n",
    "customSchema = StructType([\n",
    "    StructField(\"id\", IntegerType(), True),\n",
    "    StructField(\"bikes_available\", IntegerType(), True),\n",
    "    StructField(\"docks_available\", IntegerType(), True),\n",
    "    StructField(\"time\", TimestampType(), True)\n",
    "])\n",
    "\n",
    "path = \"file:///home/sergey/Py_SparkDataFrame_edx_CS105_CS110_CS120/data/201408_status_data.csv\"\n",
    "df = sqlContext.read.csv(path, header=True, schema=customSchema)\n",
    "df.show(5)"
   ]
  },
  {
   "cell_type": "code",
   "execution_count": 5,
   "metadata": {},
   "outputs": [
    {
     "name": "stdout",
     "output_type": "stream",
     "text": [
      "root\n",
      " |-- id: integer (nullable = true)\n",
      " |-- bikes_available: integer (nullable = true)\n",
      " |-- docks_available: integer (nullable = true)\n",
      " |-- time: timestamp (nullable = true)\n",
      "\n"
     ]
    }
   ],
   "source": [
    "df.printSchema()"
   ]
  },
  {
   "cell_type": "markdown",
   "metadata": {},
   "source": [
    "# Type inference by Reflection"
   ]
  },
  {
   "cell_type": "code",
   "execution_count": 31,
   "metadata": {},
   "outputs": [
    {
     "name": "stdout",
     "output_type": "stream",
     "text": [
      "+---------------+---------------+---+--------------------+\n",
      "|bikes_available|docks_available|id_|                time|\n",
      "+---------------+---------------+---+--------------------+\n",
      "|             12|             15|  2|2014-03-01 00:00:...|\n",
      "|             12|             15|  2|2014-03-01 00:01:...|\n",
      "|             12|             15|  2|2014-03-01 00:02:...|\n",
      "|             12|             15|  2|2014-03-01 00:03:...|\n",
      "|             12|             15|  2|2014-03-01 00:04:...|\n",
      "+---------------+---------------+---+--------------------+\n",
      "only showing top 5 rows\n",
      "\n"
     ]
    }
   ],
   "source": [
    "from pyspark.sql import Row\n",
    "from datetime import datetime as dt\n",
    "rdd = sc.textFile(path).zipWithIndex().filter(lambda x: x[1] > 0).map(lambda x: x[0])\n",
    "\n",
    "rowRDD = (rdd\n",
    "          .map(lambda x: x.split(\",\"))\n",
    "          .map(lambda x: Row(id_ = int(x[0][1:-1])\n",
    "                             ,bikes_available = int(x[1][1:-1])\n",
    "                             ,docks_available = int(x[2][1:-1])\n",
    "                             ,time = dt.strptime(x[3][1:-1], \"%Y-%m-%d %H:%M:%S\")\n",
    "                            )\n",
    "              )\n",
    "         )\n",
    "\n",
    "df2 = rowRDD.toDF()\n",
    "df2.show(5)"
   ]
  },
  {
   "cell_type": "code",
   "execution_count": 32,
   "metadata": {},
   "outputs": [
    {
     "name": "stdout",
     "output_type": "stream",
     "text": [
      "root\n",
      " |-- bikes_available: long (nullable = true)\n",
      " |-- docks_available: long (nullable = true)\n",
      " |-- id_: long (nullable = true)\n",
      " |-- time: timestamp (nullable = true)\n",
      "\n"
     ]
    }
   ],
   "source": [
    "df2.printSchema()"
   ]
  }
 ],
 "metadata": {
  "anaconda-cloud": {},
  "kernelspec": {
   "display_name": "pySpark (Spark 3.1.2)",
   "language": "python",
   "name": "pyspark"
  },
  "language_info": {
   "codemirror_mode": {
    "name": "ipython",
    "version": 3
   },
   "file_extension": ".py",
   "mimetype": "text/x-python",
   "name": "python",
   "nbconvert_exporter": "python",
   "pygments_lexer": "ipython3",
   "version": "3.9.7"
  },
  "toc": {
   "base_numbering": 1,
   "nav_menu": {},
   "number_sections": true,
   "sideBar": true,
   "skip_h1_title": false,
   "title_cell": "Table of Contents",
   "title_sidebar": "Contents",
   "toc_cell": true,
   "toc_position": {},
   "toc_section_display": true,
   "toc_window_display": false
  }
 },
 "nbformat": 4,
 "nbformat_minor": 1
}
