{
 "cells": [
  {
   "cell_type": "markdown",
   "metadata": {
    "toc": "true"
   },
   "source": [
    "# Table of Contents\n",
    " <p><div class=\"lev1 toc-item\"><a href=\"#Чтение-csv-файлов\" data-toc-modified-id=\"Чтение-csv-файлов-1\"><span class=\"toc-item-num\">1&nbsp;&nbsp;</span>Чтение <code>csv</code> файлов</a></div><div class=\"lev1 toc-item\"><a href=\"#Запись-csv-файлов\" data-toc-modified-id=\"Запись-csv-файлов-2\"><span class=\"toc-item-num\">2&nbsp;&nbsp;</span>Запись <code>csv</code> файлов</a></div><div class=\"lev1 toc-item\"><a href=\"#Чтение-Hive-таблиц\" data-toc-modified-id=\"Чтение-Hive-таблиц-3\"><span class=\"toc-item-num\">3&nbsp;&nbsp;</span>Чтение Hive таблиц</a></div><div class=\"lev1 toc-item\"><a href=\"#Запись-в-Hive-таблицу\" data-toc-modified-id=\"Запись-в-Hive-таблицу-4\"><span class=\"toc-item-num\">4&nbsp;&nbsp;</span>Запись в Hive таблицу</a></div>"
   ]
  },
  {
   "cell_type": "markdown",
   "metadata": {
    "collapsed": false
   },
   "source": [
    "# Чтение `csv` файлов"
   ]
  },
  {
   "cell_type": "code",
   "execution_count": 1,
   "metadata": {
    "collapsed": false
   },
   "outputs": [
    {
     "name": "stdout",
     "output_type": "stream",
     "text": [
      "root\n",
      " |-- station_id: integer (nullable = true)\n",
      " |-- name: string (nullable = true)\n",
      " |-- lat: double (nullable = true)\n",
      " |-- long: double (nullable = true)\n",
      " |-- dockcount: integer (nullable = true)\n",
      " |-- landmark: string (nullable = true)\n",
      " |-- installation: string (nullable = true)\n",
      "\n"
     ]
    }
   ],
   "source": [
    "path = 'file:///home/sergey/Py_SparkDataFrame_edx_CS105_CS110_CS120/data/test.csv'\n",
    "df = (sqlContext\n",
    "      .read\n",
    "      .format('com.databricks.spark.csv')\n",
    "      .options(header='true', inferSchema='true', xyz='true')\n",
    "      .load(path))\n",
    "\n",
    "df.printSchema()"
   ]
  },
  {
   "cell_type": "markdown",
   "metadata": {},
   "source": [
    "Полезные опции:  \n",
    "\n",
    "- `path` : путь к файлу  \n",
    "- `header` : есть ли `header` у файла\n",
    "- `delimiter` : разделитель\n",
    "- `charset`: кодировка \n",
    "\n",
    "\n",
    "Полный список опций:  \n",
    "https://github.com/databricks/spark-csv"
   ]
  },
  {
   "cell_type": "markdown",
   "metadata": {},
   "source": [
    "Что значит неправильно распарсить `csv` файл?"
   ]
  },
  {
   "cell_type": "code",
   "execution_count": 18,
   "metadata": {
    "collapsed": false
   },
   "outputs": [
    {
     "name": "stdout",
     "output_type": "stream",
     "text": [
      "+---------+---------+---+----------+------------+\n",
      "|используй|кодировку|  и|правильные|разделители!|\n",
      "+---------+---------+---+----------+------------+\n",
      "+---------+---------+---+----------+------------+\n",
      "\n"
     ]
    }
   ],
   "source": [
    "path = \"file:///home/sergey/Py_SparkDataFrame_edx_CS105_CS110_CS120/data/cp1251.csv\"\n",
    "df2 = (sqlContext\n",
    "      .read\n",
    "      .format('com.databricks.spark.csv')\n",
    "      .options(header='true', inferSchema='true', delimiter=' ', charset='cp1251')\n",
    "      .load(path))\n",
    "\n",
    "df2.show()"
   ]
  },
  {
   "cell_type": "code",
   "execution_count": 24,
   "metadata": {
    "collapsed": false
   },
   "outputs": [
    {
     "name": "stdout",
     "output_type": "stream",
     "text": [
      "��������� ��������� � ���������� �����������!\r\n"
     ]
    }
   ],
   "source": [
    "!head -n5 ./data/cp1251.csv"
   ]
  },
  {
   "cell_type": "code",
   "execution_count": 25,
   "metadata": {
    "collapsed": false
   },
   "outputs": [
    {
     "name": "stdout",
     "output_type": "stream",
     "text": [
      "./data/cp1251.csv: windows-1251 (confidence: 0.99)\r\n"
     ]
    }
   ],
   "source": [
    "!chardet ./data/cp1251.csv"
   ]
  },
  {
   "cell_type": "markdown",
   "metadata": {},
   "source": [
    "# Запись `csv` файлов"
   ]
  },
  {
   "cell_type": "code",
   "execution_count": 4,
   "metadata": {
    "collapsed": false
   },
   "outputs": [],
   "source": [
    "path=\"file:///home/sergey/Py_SparkDataFrame_edx_CS105_CS110_CS120/new/\"\n",
    "df.coalesce(1).write.format(\"com.databricks.spark.csv\").option(\"delimiter\",\"\\t\").save(path)"
   ]
  },
  {
   "cell_type": "code",
   "execution_count": 21,
   "metadata": {
    "collapsed": true
   },
   "outputs": [],
   "source": [
    "path=\"file:///home/sergey/Py_SparkDataFrame_edx_CS105_CS110_CS120/parquet\"\n",
    "df.coalesce(1).write.parquet(path)"
   ]
  },
  {
   "cell_type": "markdown",
   "metadata": {},
   "source": [
    "# Чтение Hive таблиц"
   ]
  },
  {
   "cell_type": "code",
   "execution_count": 6,
   "metadata": {
    "collapsed": false
   },
   "outputs": [
    {
     "name": "stdout",
     "output_type": "stream",
     "text": [
      "+-------+\n",
      "| result|\n",
      "+-------+\n",
      "|default|\n",
      "+-------+\n",
      "\n"
     ]
    }
   ],
   "source": [
    "sqlContext.sql(\"show databases\").show()"
   ]
  },
  {
   "cell_type": "code",
   "execution_count": 9,
   "metadata": {
    "collapsed": false
   },
   "outputs": [
    {
     "data": {
      "text/plain": [
       "DataFrame[result: string]"
      ]
     },
     "execution_count": 9,
     "metadata": {},
     "output_type": "execute_result"
    }
   ],
   "source": [
    "sqlContext.sql(\"use default\")"
   ]
  },
  {
   "cell_type": "code",
   "execution_count": 15,
   "metadata": {
    "collapsed": false
   },
   "outputs": [
    {
     "name": "stdout",
     "output_type": "stream",
     "text": [
      "+-----------------+-----------+\n",
      "|        tableName|isTemporary|\n",
      "+-----------------+-----------+\n",
      "|    bikes_parquet|      false|\n",
      "|  bikes_parquet77|      false|\n",
      "|   bikes_parquet9|      false|\n",
      "|bikes_parquet_777|      false|\n",
      "|         calendar|      false|\n",
      "|       calendar10|      false|\n",
      "|        test16_df|      false|\n",
      "|          test_df|      false|\n",
      "+-----------------+-----------+\n",
      "\n"
     ]
    }
   ],
   "source": [
    "sqlContext.sql(\"show tables\").show()"
   ]
  },
  {
   "cell_type": "markdown",
   "metadata": {},
   "source": [
    "# Запись в Hive таблицу"
   ]
  },
  {
   "cell_type": "code",
   "execution_count": 14,
   "metadata": {
    "collapsed": false
   },
   "outputs": [],
   "source": [
    "df.write.saveAsTable(\"test16_df\")"
   ]
  },
  {
   "cell_type": "code",
   "execution_count": 16,
   "metadata": {
    "collapsed": true
   },
   "outputs": [],
   "source": [
    "df.write.parquet?"
   ]
  }
 ],
 "metadata": {
  "anaconda-cloud": {},
  "kernelspec": {
   "display_name": "pySpark (Spark 1.6.2)",
   "language": "python",
   "name": "pyspark"
  },
  "language_info": {
   "codemirror_mode": {
    "name": "ipython",
    "version": 3
   },
   "file_extension": ".py",
   "mimetype": "text/x-python",
   "name": "python",
   "nbconvert_exporter": "python",
   "pygments_lexer": "ipython3",
   "version": "3.5.2"
  },
  "toc": {
   "nav_menu": {
    "height": "12px",
    "width": "252px"
   },
   "navigate_menu": true,
   "number_sections": true,
   "sideBar": true,
   "threshold": 4,
   "toc_cell": true,
   "toc_section_display": "block",
   "toc_window_display": false
  }
 },
 "nbformat": 4,
 "nbformat_minor": 1
}
