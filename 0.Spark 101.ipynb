{
 "cells": [
  {
   "cell_type": "markdown",
   "metadata": {
    "nbpresent": {
     "id": "5d40ff8a-c663-4661-bd3d-4384e763c01d"
    },
    "toc": "true"
   },
   "source": [
    "<h1>Table of Contents<span class=\"tocSkip\"></span></h1>\n",
    "<div class=\"toc\"><ul class=\"toc-item\"><li><span><a href=\"#IDE-Jupyter-Notebook\" data-toc-modified-id=\"IDE-Jupyter-Notebook-1\"><span class=\"toc-item-num\">1&nbsp;&nbsp;</span>IDE Jupyter Notebook</a></span><ul class=\"toc-item\"><li><span><a href=\"#Что-такое-Jupyter-Notebook\" data-toc-modified-id=\"Что-такое-Jupyter-Notebook-1.1\"><span class=\"toc-item-num\">1.1&nbsp;&nbsp;</span>Что такое Jupyter Notebook</a></span></li><li><span><a href=\"#Повышение-производительности-при-работе-с-Jupyter-Notebook\" data-toc-modified-id=\"Повышение-производительности-при-работе-с-Jupyter-Notebook-1.2\"><span class=\"toc-item-num\">1.2&nbsp;&nbsp;</span>Повышение производительности при работе с Jupyter Notebook</a></span></li><li><span><a href=\"#Полезные-сочетания-клавиш\" data-toc-modified-id=\"Полезные-сочетания-клавиш-1.3\"><span class=\"toc-item-num\">1.3&nbsp;&nbsp;</span>Полезные сочетания клавиш</a></span></li></ul></li><li><span><a href=\"#Spark:-основной-функционал\" data-toc-modified-id=\"Spark:-основной-функционал-2\"><span class=\"toc-item-num\">2&nbsp;&nbsp;</span>Spark: основной функционал</a></span><ul class=\"toc-item\"><li><span><a href=\"#Spark-stack\" data-toc-modified-id=\"Spark-stack-2.1\"><span class=\"toc-item-num\">2.1&nbsp;&nbsp;</span>Spark stack</a></span><ul class=\"toc-item\"><li><span><a href=\"#Spark-Core\" data-toc-modified-id=\"Spark-Core-2.1.1\"><span class=\"toc-item-num\">2.1.1&nbsp;&nbsp;</span>Spark Core</a></span></li><li><span><a href=\"#Spark-SQL-&amp;-DataFrames:\" data-toc-modified-id=\"Spark-SQL-&amp;-DataFrames:-2.1.2\"><span class=\"toc-item-num\">2.1.2&nbsp;&nbsp;</span>Spark SQL &amp; DataFrames:</a></span></li><li><span><a href=\"#Spark-MLLib:\" data-toc-modified-id=\"Spark-MLLib:-2.1.3\"><span class=\"toc-item-num\">2.1.3&nbsp;&nbsp;</span>Spark MLLib:</a></span></li><li><span><a href=\"#Spark-Streaming:\" data-toc-modified-id=\"Spark-Streaming:-2.1.4\"><span class=\"toc-item-num\">2.1.4&nbsp;&nbsp;</span>Spark Streaming:</a></span></li><li><span><a href=\"#Spark-GraphX:\" data-toc-modified-id=\"Spark-GraphX:-2.1.5\"><span class=\"toc-item-num\">2.1.5&nbsp;&nbsp;</span>Spark GraphX:</a></span></li></ul></li><li><span><a href=\"#Документация-(справка)-по-Spark:\" data-toc-modified-id=\"Документация-(справка)-по-Spark:-2.2\"><span class=\"toc-item-num\">2.2&nbsp;&nbsp;</span>Документация (справка) по Spark:</a></span></li><li><span><a href=\"#Точка-входа-для-Core-Spark-и-Spark-SQL\" data-toc-modified-id=\"Точка-входа-для-Core-Spark-и-Spark-SQL-2.3\"><span class=\"toc-item-num\">2.3&nbsp;&nbsp;</span>Точка входа для Core Spark и Spark SQL</a></span><ul class=\"toc-item\"><li><span><a href=\"#Переопределение-параметров-Spark-Session\" data-toc-modified-id=\"Переопределение-параметров-Spark-Session-2.3.1\"><span class=\"toc-item-num\">2.3.1&nbsp;&nbsp;</span>Переопределение параметров <code>Spark Session</code></a></span></li></ul></li><li><span><a href=\"#Чтение-и-запись-в-HDFS\" data-toc-modified-id=\"Чтение-и-запись-в-HDFS-2.4\"><span class=\"toc-item-num\">2.4&nbsp;&nbsp;</span>Чтение и запись в HDFS</a></span><ul class=\"toc-item\"><li><span><a href=\"#Чтение--и-запись-csv-файлов\" data-toc-modified-id=\"Чтение--и-запись-csv-файлов-2.4.1\"><span class=\"toc-item-num\">2.4.1&nbsp;&nbsp;</span>Чтение  и запись <code>csv</code> файлов</a></span></li><li><span><a href=\"#Чтение-и-запись-других-форматов-(Parquet,-Avro,-etc-)\" data-toc-modified-id=\"Чтение-и-запись-других-форматов-(Parquet,-Avro,-etc-)-2.4.2\"><span class=\"toc-item-num\">2.4.2&nbsp;&nbsp;</span>Чтение и запись других форматов (Parquet, Avro, etc )</a></span></li></ul></li><li><span><a href=\"#Чтение-и-запись-в-Hive\" data-toc-modified-id=\"Чтение-и-запись-в-Hive-2.5\"><span class=\"toc-item-num\">2.5&nbsp;&nbsp;</span>Чтение и запись в Hive</a></span></li><li><span><a href=\"#Actions-и-Transformations\" data-toc-modified-id=\"Actions-и-Transformations-2.6\"><span class=\"toc-item-num\">2.6&nbsp;&nbsp;</span>Actions и Transformations</a></span></li></ul></li></ul></div>"
   ]
  },
  {
   "cell_type": "markdown",
   "metadata": {},
   "source": [
    "# IDE Jupyter Notebook\n",
    "\n",
    "![image](img/jupyter_languages.png)\n",
    "\n",
    "\n",
    "## Что такое Jupyter Notebook\n",
    "\n",
    "- Поддерживает 40+ языков программирования\n",
    "(https://github.com/ipython/ipython/wiki/IPython-kernels-for-other-languages)\n",
    "- IDE для Data Scientists:\n",
    "    - возможность комбинировать код, поясняющий текст и медиа\n",
    "    - интерактивность и итеративность написания кода  \n",
    "    - воспроизводимость результатов (\"reproducible research\").\n",
    "\n",
    "## Повышение производительности при работе с Jupyter Notebook\n",
    "\n",
    "- Jupyter Notebook magics (`%lsmagic`)\n",
    "    - `line magics`:\n",
    "        - `%load <file_name>`, `%time <command>` \n",
    "    - `cell magics`:\n",
    "        - `%%writefile\n",
    "           ...\n",
    "           filecontents\n",
    "           ...`\n",
    "        - `%%timeit`\n",
    "        \n",
    "- работа в `bash`:\n",
    "    - Любая команда `bash`, которую предваряет `!`:\n",
    "        - `!ls`, `!pwd`, `!cat`\n",
    "    - `bash` скрипт:\n",
    "        - `%%bash`\n",
    "        \n",
    "- получение справки:\n",
    "    - `<magic><?>`"
   ]
  },
  {
   "cell_type": "code",
   "execution_count": 9,
   "metadata": {},
   "outputs": [],
   "source": [
    "!ls?"
   ]
  },
  {
   "cell_type": "markdown",
   "metadata": {
    "nbpresent": {
     "id": "79c8f345-1312-4ab2-8546-5d9afdb24393"
    }
   },
   "source": [
    "## Полезные сочетания клавиш\n",
    "\n",
    "- `Ctrl /`  -- коментирование / раскоментирование строки или выделенного блока\n",
    "- `Ctrl ]` -- tab блока кода вправо\n",
    "- `Ctrl [` -- tab блока кода влево\n",
    "- `<command>?` -- получение справки по команде  \n",
    "- `<command>_press_tab` -- автозаполнение (\"автопродолжение\")  \n",
    "- `d+d` -- удалить ячейку  \n",
    "- `Esc + z` -- восстановить удаленную ячейку\n",
    "- `c` -- скопировать ячейку\n",
    "- `v` -- вставить ячейку\n",
    "- `Ctrl Shift <minus> ` - разделить ячейку на 2 (после курсора)  \n",
    "\n",
    "Полный список сочетаний клавиш: `TopMenu --> Help -->  Keyboard Shortcuts`"
   ]
  },
  {
   "cell_type": "code",
   "execution_count": 14,
   "metadata": {},
   "outputs": [],
   "source": [
    "#EXAMPLE"
   ]
  },
  {
   "cell_type": "markdown",
   "metadata": {},
   "source": [
    "#  Spark: основной функционал\n",
    "\n",
    "## Spark stack\n",
    "\n",
    "![image](img/spark_stack.png)\n",
    "\n",
    "### Spark Core\n",
    "\n",
    "Объединяет в себе основной функционал Spark: \n",
    "\n",
    "- управление задачами (task)   \n",
    "- управление ресурсами и взаимодействие с системами хранения данных\n",
    "- Основная структура для работы с данными: ` RDD ` (Resilient Distributed Datasets)  \n",
    "\n",
    "### Spark SQL & DataFrames:\n",
    "\n",
    "Надстройка для работы с структурированными данными:\n",
    "\n",
    "![image](img/formats.png)\n",
    "\n",
    "- SQL запросы к Hive metastore и создание Hive таблиц\n",
    "- Чтение и запись с/на HDFS, с/на локальные ноды\n",
    "- Основная структура для работы с данными в R/Python: ` DataFrame ` (аналог R/Python Pandas DataFrame )\n",
    "\n",
    "<img src=\"img/performance.png\" alt=\"Drawing\" style=\"width: 500px;\"/>\n",
    "\n",
    "\n",
    "### Spark MLLib:\n",
    "\n",
    "Библиотека машинного обучения:  \n",
    "\n",
    "- Регрессия (линейная, логистическая)   \n",
    "- Классификация (деревья решений, логистическая регрессия)\n",
    "- Рекомендации (ALS)\n",
    "- Usupervised Learning (кластеризация, ...)\n",
    "- Вспомогательный функционал (статистические фугкции, $R^2$, RMSE, Accuracy, ...)\n",
    "\n",
    "\n",
    "### Spark Streaming:\n",
    "\n",
    "Библиотека для работы с данными, поступающими в реальном масштабе времени\n",
    "\n",
    "### Spark GraphX:\n",
    "\n",
    "Библиотека для работы с графами.\n",
    "\n",
    "## Документация (справка) по Spark:\n",
    "\n",
    "https://spark.apache.org/documentation.html\n",
    "\n",
    "## Точка входа для Core Spark и Spark SQL\n",
    "\n",
    "В Spark 2.0 `SparkSession` является единой точкой входа для:  \n",
    "\n",
    "- Spark SQL (DataFrame)   \n",
    "- Core Spark (RDD)\n",
    "\n",
    "`SparkSession` автоматически создается в виде переменной `spark` при запуске Spark 2.0 в консоли или запуске `pySpark` кёрнела в IPython notebook.   \n",
    "\n",
    "( Переменная `sc()-- SparkContext ` оставлена для обеспечения backwards compatability )"
   ]
  },
  {
   "cell_type": "code",
   "execution_count": 15,
   "metadata": {},
   "outputs": [
    {
     "name": "stdout",
     "output_type": "stream",
     "text": [
      "<pyspark.sql.session.SparkSession object at 0x7f4ac306d5f8>\n"
     ]
    }
   ],
   "source": [
    "print(spark)"
   ]
  },
  {
   "cell_type": "code",
   "execution_count": 16,
   "metadata": {},
   "outputs": [
    {
     "data": {
      "text/plain": [
       "pyspark.sql.session.SparkSession"
      ]
     },
     "execution_count": 16,
     "metadata": {},
     "output_type": "execute_result"
    }
   ],
   "source": [
    "type(spark)"
   ]
  },
  {
   "cell_type": "code",
   "execution_count": 18,
   "metadata": {},
   "outputs": [
    {
     "data": {
      "text/plain": [
       "'pyspark-shell'"
      ]
     },
     "execution_count": 18,
     "metadata": {},
     "output_type": "execute_result"
    }
   ],
   "source": [
    "sc.appName"
   ]
  },
  {
   "cell_type": "code",
   "execution_count": 19,
   "metadata": {},
   "outputs": [
    {
     "data": {
      "text/plain": [
       "'local-1479620385954'"
      ]
     },
     "execution_count": 19,
     "metadata": {},
     "output_type": "execute_result"
    }
   ],
   "source": [
    "sc.applicationId"
   ]
  },
  {
   "cell_type": "markdown",
   "metadata": {},
   "source": [
    "### Переопределение параметров `Spark Session`"
   ]
  },
  {
   "cell_type": "code",
   "execution_count": 20,
   "metadata": {},
   "outputs": [
    {
     "data": {
      "text/plain": [
       "[('spark.submit.deployMode', 'client'),\n",
       " ('spark.master', 'local[2]'),\n",
       " ('spark.app.name', 'pyspark-shell')]"
      ]
     },
     "execution_count": 20,
     "metadata": {},
     "output_type": "execute_result"
    }
   ],
   "source": [
    "from pyspark import SparkConf\n",
    "SparkConf().getAll()"
   ]
  },
  {
   "cell_type": "code",
   "execution_count": 6,
   "metadata": {},
   "outputs": [
    {
     "data": {
      "text/plain": [
       "'spark.app.name=pyspark-shell\\nspark.master=local[2]\\nspark.submit.deployMode=client'"
      ]
     },
     "execution_count": 6,
     "metadata": {},
     "output_type": "execute_result"
    }
   ],
   "source": [
    "SparkConf().toDebugString()"
   ]
  },
  {
   "cell_type": "markdown",
   "metadata": {},
   "source": [
    "Доступные опции конфигурации:\n",
    "https://spark.apache.org/docs/2.0.1/configuration.html"
   ]
  },
  {
   "cell_type": "code",
   "execution_count": 24,
   "metadata": {
    "collapsed": true
   },
   "outputs": [],
   "source": [
    "c = SparkConf()"
   ]
  },
  {
   "cell_type": "code",
   "execution_count": null,
   "metadata": {
    "collapsed": true
   },
   "outputs": [],
   "source": [
    "from pyspark import SparkConf"
   ]
  },
  {
   "cell_type": "code",
   "execution_count": null,
   "metadata": {
    "collapsed": true
   },
   "outputs": [],
   "source": [
    "c = SparkConf()\n",
    "(c\n",
    " .setAppName(\"MyApp\")\n",
    " .setMaster(\"local\")\n",
    " .set(\"spark.driver.memory\",\"1g\")\n",
    " )"
   ]
  },
  {
   "cell_type": "code",
   "execution_count": 7,
   "metadata": {},
   "outputs": [
    {
     "data": {
      "text/plain": [
       "<pyspark.sql.session.SparkSession at 0x7fe9926c8550>"
      ]
     },
     "execution_count": 7,
     "metadata": {},
     "output_type": "execute_result"
    }
   ],
   "source": [
    "from pyspark.sql import SparkSession\n",
    "\n",
    "(SparkSession\n",
    ".builder\n",
    ".enableHiveSupport() # metastore, serdes, Hive udf\n",
    ".config(conf=c)\n",
    ".getOrCreate())"
   ]
  },
  {
   "cell_type": "code",
   "execution_count": 9,
   "metadata": {},
   "outputs": [
    {
     "data": {
      "text/plain": [
       "'MyApp'"
      ]
     },
     "execution_count": 9,
     "metadata": {},
     "output_type": "execute_result"
    }
   ],
   "source": [
    "spark.conf.get(\"spark.app.name\")"
   ]
  },
  {
   "cell_type": "markdown",
   "metadata": {},
   "source": [
    "## Чтение и запись в HDFS\n",
    "\n",
    "### Чтение  и запись `csv` файлов"
   ]
  },
  {
   "cell_type": "code",
   "execution_count": 50,
   "metadata": {},
   "outputs": [],
   "source": [
    "path =\"file:///home/sergey/Py_SparkDataFrame_edx_CS105_CS110_CS120/data/test.csv\"\n",
    "df = spark.read.csv(path, header=True, sep=\",\", inferSchema=True)"
   ]
  },
  {
   "cell_type": "code",
   "execution_count": 29,
   "metadata": {},
   "outputs": [
    {
     "name": "stdout",
     "output_type": "stream",
     "text": [
      "root\n",
      " |-- station_id: integer (nullable = true)\n",
      " |-- name: string (nullable = true)\n",
      " |-- lat: double (nullable = true)\n",
      " |-- long: double (nullable = true)\n",
      " |-- dockcount: integer (nullable = true)\n",
      " |-- landmark: string (nullable = true)\n",
      " |-- installation: string (nullable = true)\n",
      "\n"
     ]
    }
   ],
   "source": [
    "df.printSchema()"
   ]
  },
  {
   "cell_type": "code",
   "execution_count": 51,
   "metadata": {},
   "outputs": [
    {
     "data": {
      "text/plain": [
       "70"
      ]
     },
     "execution_count": 51,
     "metadata": {},
     "output_type": "execute_result"
    }
   ],
   "source": [
    "df.count()"
   ]
  },
  {
   "cell_type": "markdown",
   "metadata": {},
   "source": [
    "### Чтение и запись других форматов (Parquet, Avro, etc )"
   ]
  },
  {
   "cell_type": "markdown",
   "metadata": {},
   "source": [
    "## Чтение и запись в Hive"
   ]
  },
  {
   "cell_type": "code",
   "execution_count": 44,
   "metadata": {},
   "outputs": [
    {
     "name": "stdout",
     "output_type": "stream",
     "text": [
      "+------------+\n",
      "|databaseName|\n",
      "+------------+\n",
      "|     default|\n",
      "+------------+\n",
      "\n"
     ]
    }
   ],
   "source": [
    "spark.sql('show databases').show()"
   ]
  },
  {
   "cell_type": "code",
   "execution_count": 46,
   "metadata": {},
   "outputs": [
    {
     "name": "stdout",
     "output_type": "stream",
     "text": [
      "++\n",
      "||\n",
      "++\n",
      "++\n",
      "\n"
     ]
    }
   ],
   "source": [
    "spark.sql('use default').show()"
   ]
  },
  {
   "cell_type": "code",
   "execution_count": 47,
   "metadata": {},
   "outputs": [
    {
     "name": "stdout",
     "output_type": "stream",
     "text": [
      "+-----------------+-----------+\n",
      "|        tableName|isTemporary|\n",
      "+-----------------+-----------+\n",
      "|    bikes_parquet|      false|\n",
      "|  bikes_parquet77|      false|\n",
      "|   bikes_parquet9|      false|\n",
      "|bikes_parquet_777|      false|\n",
      "|         calendar|      false|\n",
      "|       calendar10|      false|\n",
      "+-----------------+-----------+\n",
      "\n"
     ]
    }
   ],
   "source": [
    "spark.sql('show tables').show()"
   ]
  },
  {
   "cell_type": "code",
   "execution_count": 53,
   "metadata": {},
   "outputs": [
    {
     "name": "stdout",
     "output_type": "stream",
     "text": [
      "root\n",
      " |-- station_id: integer (nullable = true)\n",
      " |-- name: string (nullable = true)\n",
      " |-- lat: double (nullable = true)\n",
      " |-- long: double (nullable = true)\n",
      " |-- dockcount: integer (nullable = true)\n",
      " |-- landmark: string (nullable = true)\n",
      " |-- installation: string (nullable = true)\n",
      "\n"
     ]
    }
   ],
   "source": [
    "path = \"file:///home/sergey/Py_SparkDataFrame_edx_CS105_CS110_CS120/data/test.csv\"\n",
    "df = spark.read.csv(path, header=True, sep=\",\", inferSchema=True)\n",
    "df.printSchema()"
   ]
  },
  {
   "cell_type": "code",
   "execution_count": 55,
   "metadata": {},
   "outputs": [
    {
     "data": {
      "text/plain": [
       "DataFrame[]"
      ]
     },
     "execution_count": 55,
     "metadata": {},
     "output_type": "execute_result"
    }
   ],
   "source": [
    "spark.sql(\"DROP TABLE IF EXISTS TEST\")"
   ]
  },
  {
   "cell_type": "code",
   "execution_count": 56,
   "metadata": {
    "collapsed": true
   },
   "outputs": [],
   "source": [
    "df.write.saveAsTable(\"test_df\")"
   ]
  },
  {
   "cell_type": "code",
   "execution_count": 57,
   "metadata": {},
   "outputs": [
    {
     "name": "stdout",
     "output_type": "stream",
     "text": [
      "+-----------------+-----------+\n",
      "|        tableName|isTemporary|\n",
      "+-----------------+-----------+\n",
      "|    bikes_parquet|      false|\n",
      "|  bikes_parquet77|      false|\n",
      "|   bikes_parquet9|      false|\n",
      "|bikes_parquet_777|      false|\n",
      "|         calendar|      false|\n",
      "|       calendar10|      false|\n",
      "|          test_df|      false|\n",
      "+-----------------+-----------+\n",
      "\n"
     ]
    }
   ],
   "source": [
    "spark.sql(\"show tables\").show()"
   ]
  },
  {
   "cell_type": "code",
   "execution_count": null,
   "metadata": {
    "collapsed": true
   },
   "outputs": [],
   "source": [
    "spark.sql(\"select count(*) from bikes_parquet\")"
   ]
  },
  {
   "cell_type": "markdown",
   "metadata": {},
   "source": [
    "## Actions и Transformations"
   ]
  }
 ],
 "metadata": {
  "_draft": {
   "nbviewer_url": "https://gist.github.com/bfcac44327e31b2cc2e3d3c31b6207fa"
  },
  "anaconda-cloud": {},
  "gist": {
   "data": {
    "description": "Untitled1.ipynb",
    "public": true
   },
   "id": "bfcac44327e31b2cc2e3d3c31b6207fa"
  },
  "kernelspec": {
   "display_name": "Python 3",
   "language": "python",
   "name": "python3"
  },
  "language_info": {
   "codemirror_mode": {
    "name": "ipython",
    "version": 3
   },
   "file_extension": ".py",
   "mimetype": "text/x-python",
   "name": "python",
   "nbconvert_exporter": "python",
   "pygments_lexer": "ipython3",
   "version": "3.9.12"
  },
  "nbpresent": {
   "slides": {
    "14dff1d1-260f-4e23-8b19-d96f9b525450": {
     "id": "14dff1d1-260f-4e23-8b19-d96f9b525450",
     "prev": "c634dad5-c7c3-4e56-92c2-11de4e2d684f",
     "regions": {
      "35fdb4e2-5a92-4d4e-9caa-8a11ade46316": {
       "attrs": {
        "height": 0.8,
        "width": 0.8,
        "x": 0.1,
        "y": 0.1
       },
       "content": {
        "cell": "45acf9ad-e2e5-4d82-a9dc-21a8907a7127",
        "part": "whole"
       },
       "id": "35fdb4e2-5a92-4d4e-9caa-8a11ade46316"
      }
     }
    },
    "37b240ea-9b05-4ebf-88b5-4a5055e55931": {
     "id": "37b240ea-9b05-4ebf-88b5-4a5055e55931",
     "prev": "de5a4657-9229-4b66-885a-59fbe52c4a1f",
     "regions": {
      "a9c47b6d-1e5c-4d1a-912a-2adc7c6de6bd": {
       "attrs": {
        "height": 0.8,
        "width": 0.8,
        "x": 0.1,
        "y": 0.1
       },
       "content": {
        "cell": "bf832f91-3f59-4100-bdb0-1a1f11d59d1c",
        "part": "whole"
       },
       "id": "a9c47b6d-1e5c-4d1a-912a-2adc7c6de6bd"
      }
     }
    },
    "38958be5-d744-4999-a278-e20e8c2eebba": {
     "id": "38958be5-d744-4999-a278-e20e8c2eebba",
     "prev": "8f4d7822-1823-4016-b8ad-17133c21328d",
     "regions": {
      "29d2346c-dd39-4455-8fc4-232bf58ae619": {
       "attrs": {
        "height": 0.8,
        "width": 0.8,
        "x": 0.1,
        "y": 0.1
       },
       "content": {
        "cell": "059640b5-e039-4e9c-ac71-c7f9b6507a7d",
        "part": "whole"
       },
       "id": "29d2346c-dd39-4455-8fc4-232bf58ae619"
      }
     }
    },
    "3e7f30d0-0246-4ef2-9eb9-8856012e11de": {
     "id": "3e7f30d0-0246-4ef2-9eb9-8856012e11de",
     "prev": null,
     "regions": {
      "e72925ac-e534-4e54-b8aa-1d6212a394f3": {
       "attrs": {
        "height": 0.8,
        "width": 0.8,
        "x": 0.1,
        "y": 0.1
       },
       "content": {
        "cell": "5d40ff8a-c663-4661-bd3d-4384e763c01d",
        "part": "whole"
       },
       "id": "e72925ac-e534-4e54-b8aa-1d6212a394f3"
      }
     }
    },
    "5020714a-7998-4abb-8c5b-b72907885dc3": {
     "id": "5020714a-7998-4abb-8c5b-b72907885dc3",
     "prev": "d1ad3903-e9c4-4bd0-9eba-32a521cb3c71",
     "regions": {
      "a4a5e1f5-8d65-4b0d-ad57-6f690327a00a": {
       "attrs": {
        "height": 0.8,
        "width": 0.8,
        "x": 0.1,
        "y": 0.1
       },
       "content": {
        "cell": "705703b5-ccd7-4ff7-8516-7795441d8072",
        "part": "whole"
       },
       "id": "a4a5e1f5-8d65-4b0d-ad57-6f690327a00a"
      }
     }
    },
    "74dbfef3-88e7-4761-af0a-3b1314a86a82": {
     "id": "74dbfef3-88e7-4761-af0a-3b1314a86a82",
     "prev": "38958be5-d744-4999-a278-e20e8c2eebba",
     "regions": {
      "a1dfa296-a8ed-4a5b-af82-9c297e798067": {
       "attrs": {
        "height": 0.8,
        "width": 0.8,
        "x": 0.1,
        "y": 0.1
       },
       "content": {
        "cell": "7c72d85b-0638-4bb8-b55c-69f9a9cb0a73",
        "part": "whole"
       },
       "id": "a1dfa296-a8ed-4a5b-af82-9c297e798067"
      }
     }
    },
    "8f4d7822-1823-4016-b8ad-17133c21328d": {
     "id": "8f4d7822-1823-4016-b8ad-17133c21328d",
     "prev": "14dff1d1-260f-4e23-8b19-d96f9b525450",
     "regions": {
      "06b8f423-9ce5-40a5-86a3-7cda64146671": {
       "attrs": {
        "height": 0.8,
        "width": 0.8,
        "x": 0.1,
        "y": 0.1
       },
       "content": {
        "cell": "6d4b5667-e310-4b3d-b8d6-ea44f895756c",
        "part": "whole"
       },
       "id": "06b8f423-9ce5-40a5-86a3-7cda64146671"
      }
     }
    },
    "c634dad5-c7c3-4e56-92c2-11de4e2d684f": {
     "id": "c634dad5-c7c3-4e56-92c2-11de4e2d684f",
     "prev": "3e7f30d0-0246-4ef2-9eb9-8856012e11de",
     "regions": {
      "47f55d25-088c-46d2-b354-b61c0dbb1a51": {
       "attrs": {
        "height": 0.8,
        "width": 0.8,
        "x": 0.1,
        "y": 0.1
       },
       "content": {
        "cell": "79c8f345-1312-4ab2-8546-5d9afdb24393",
        "part": "whole"
       },
       "id": "47f55d25-088c-46d2-b354-b61c0dbb1a51"
      }
     }
    },
    "d1ad3903-e9c4-4bd0-9eba-32a521cb3c71": {
     "id": "d1ad3903-e9c4-4bd0-9eba-32a521cb3c71",
     "prev": "74dbfef3-88e7-4761-af0a-3b1314a86a82",
     "regions": {
      "bc26bb82-29a0-495b-b255-2223e8e29426": {
       "attrs": {
        "height": 0.8,
        "width": 0.8,
        "x": 0.1,
        "y": 0.1
       },
       "content": {
        "cell": "add2ae4e-fc04-412d-acd5-82e152f89e11",
        "part": "whole"
       },
       "id": "bc26bb82-29a0-495b-b255-2223e8e29426"
      }
     }
    },
    "de5a4657-9229-4b66-885a-59fbe52c4a1f": {
     "id": "de5a4657-9229-4b66-885a-59fbe52c4a1f",
     "prev": "5020714a-7998-4abb-8c5b-b72907885dc3",
     "regions": {
      "bea284f7-67d6-46bf-9a92-4a0bf163236a": {
       "attrs": {
        "height": 0.8,
        "width": 0.8,
        "x": 0.1,
        "y": 0.1
       },
       "content": {
        "cell": "7726f583-98a3-4f48-adef-757c84212765",
        "part": "whole"
       },
       "id": "bea284f7-67d6-46bf-9a92-4a0bf163236a"
      }
     }
    },
    "e239b15c-7eb2-418a-8032-704feae70bb7": {
     "id": "e239b15c-7eb2-418a-8032-704feae70bb7",
     "prev": "37b240ea-9b05-4ebf-88b5-4a5055e55931",
     "regions": {
      "20c2e079-c5bc-449a-a47b-58890d16f3e0": {
       "attrs": {
        "height": 0.8,
        "width": 0.8,
        "x": 0.1,
        "y": 0.1
       },
       "content": {
        "cell": "42a262d9-80e3-44f5-945c-adb9eaec9ad2",
        "part": "whole"
       },
       "id": "20c2e079-c5bc-449a-a47b-58890d16f3e0"
      }
     }
    },
    "e7a1c711-a367-4f4b-a358-dc34d78064f1": {
     "id": "e7a1c711-a367-4f4b-a358-dc34d78064f1",
     "prev": "e239b15c-7eb2-418a-8032-704feae70bb7",
     "regions": {
      "dceff300-514f-44f8-a9a3-41035d68d552": {
       "attrs": {
        "height": 0.8,
        "width": 0.8,
        "x": 0.1,
        "y": 0.1
       },
       "content": {
        "cell": "90169e72-c0ca-43d6-b7fd-2beb8493111a",
        "part": "whole"
       },
       "id": "dceff300-514f-44f8-a9a3-41035d68d552"
      }
     }
    }
   },
   "themes": {}
  },
  "toc": {
   "base_numbering": 1,
   "nav_menu": {
    "height": "134px",
    "width": "252px"
   },
   "number_sections": true,
   "sideBar": true,
   "skip_h1_title": false,
   "title_cell": "Table of Contents",
   "title_sidebar": "Contents",
   "toc_cell": true,
   "toc_position": {},
   "toc_section_display": "block",
   "toc_window_display": false
  }
 },
 "nbformat": 4,
 "nbformat_minor": 1
}
