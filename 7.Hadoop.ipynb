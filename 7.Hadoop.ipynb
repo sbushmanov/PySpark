{
 "cells": [
  {
   "cell_type": "markdown",
   "metadata": {
    "toc": true
   },
   "source": [
    "<h1>Table of Contents<span class=\"tocSkip\"></span></h1>\n",
    "<div class=\"toc\"><ul class=\"toc-item\"><li><span><a href=\"#Загрузка-данных-в-Hadoop\" data-toc-modified-id=\"Загрузка-данных-в-Hadoop-1\"><span class=\"toc-item-num\">1&nbsp;&nbsp;</span>Загрузка данных в Hadoop</a></span></li><li><span><a href=\"#Чтение-данных-из-HDFS-в-Spark\" data-toc-modified-id=\"Чтение-данных-из-HDFS-в-Spark-2\"><span class=\"toc-item-num\">2&nbsp;&nbsp;</span>Чтение данных из HDFS в Spark</a></span></li><li><span><a href=\"#Аналитика\" data-toc-modified-id=\"Аналитика-3\"><span class=\"toc-item-num\">3&nbsp;&nbsp;</span>Аналитика</a></span></li></ul></div>"
   ]
  },
  {
   "cell_type": "markdown",
   "metadata": {},
   "source": [
    "Файловая система ` HDFS ` (Hadoop Distributed File System) существует независимо от файловой системы хоста, работающего как правило, на базе \\*nix ОС. Тем не менее, набор команд для управления ` HDFS ` очень похож на стандартный набор командной строки \\*nix OS, регламентируемый ` POSIX ` стандартом ( ` ls, mkdir, rm, cp, du, df ` ) и может быть сгруппирован следующим образом:  \n",
    "\n",
    "- Просмотр файловой структуры:\n",
    "    - ` hadoop fs -ls , hadoop fs -du, hadoop fs -df`  \n",
    " \n",
    " \n",
    "- Копирование файлов:  \n",
    "    - ` hadoop fs -cp , hadoop fs -get, hadoop fs -put` и их аналоги ` hadoop fs -copyFromLocal , hadoop fs -copyToLocal`\n",
    "\n",
    "\n",
    "- Создание директорий:\n",
    "    - ` hadoop fs -mkdir ` \n",
    "\n",
    "\n",
    "- Удаление файлов и директорий:  \n",
    "    - ` hadoop fs -rm, hadoop fs -rm -R, hadoop fs -rmdir `  \n",
    " \n",
    " \n",
    "- Просмотр содержимого файла:  \n",
    "    - ` hadoop fs -cat , hadoop fs -tail`\n",
    " \n",
    " \n",
    "- Вспомогательные команды:  \n",
    "    - ` hadoop fs -expunge ` - команда для очистки Корзины Hadoop хранилища\n",
    "    - ` hdfs fsck` - команды для проверки целостности файловой системы  \n",
    "    - ` hadoop fs -count ` - количество файлов, директорий и объем хранимой информации  \n",
    "\n",
    "\n",
    "- Помощь по командам:\n",
    "    - ` hadoop fs -help `  \n",
    "    \n",
    "# Загрузка данных в Hadoop \n",
    "\n",
    "Запустим Hadoop кластер"
   ]
  },
  {
   "cell_type": "markdown",
   "metadata": {},
   "source": [
    "Какие диски монтированы в системе ` HDFS `:"
   ]
  },
  {
   "cell_type": "code",
   "execution_count": 1,
   "metadata": {
    "ExecuteTime": {
     "end_time": "2021-12-06T19:09:23.317191Z",
     "start_time": "2021-12-06T19:09:21.555437Z"
    }
   },
   "outputs": [
    {
     "name": "stdout",
     "output_type": "stream",
     "text": [
      "0       0        /tmp\r\n",
      "34.6 K  103.7 K  /user\r\n"
     ]
    }
   ],
   "source": [
    "! hadoop fs -du -h /"
   ]
  },
  {
   "cell_type": "markdown",
   "metadata": {},
   "source": [
    "Запишем данные из локальной файловой системы в Hadoop хранилище:"
   ]
  },
  {
   "cell_type": "code",
   "execution_count": 2,
   "metadata": {},
   "outputs": [],
   "source": [
    "# ! hadoop dfsadmin -safemode leave"
   ]
  },
  {
   "cell_type": "code",
   "execution_count": 3,
   "metadata": {},
   "outputs": [
    {
     "name": "stdout",
     "output_type": "stream",
     "text": [
      "18/02/22 18:11:31 INFO fs.TrashPolicyDefault: Namenode trash configuration: Deletion interval = 0 minutes, Emptier interval = 0 minutes.\n",
      "Deleted /user/sergey/data/201408_status_data.csv\n"
     ]
    }
   ],
   "source": [
    "! hadoop fs -rm /user/sergey/data/201408_status_data.csv"
   ]
  },
  {
   "cell_type": "code",
   "execution_count": 6,
   "metadata": {
    "ExecuteTime": {
     "end_time": "2021-12-06T19:20:31.379716Z",
     "start_time": "2021-12-06T19:20:29.597763Z"
    }
   },
   "outputs": [],
   "source": [
    "!hdfs dfs -mkdir -p /user/sergey/data"
   ]
  },
  {
   "cell_type": "code",
   "execution_count": 8,
   "metadata": {
    "ExecuteTime": {
     "end_time": "2021-12-06T19:20:58.780790Z",
     "start_time": "2021-12-06T19:20:57.003898Z"
    }
   },
   "outputs": [
    {
     "name": "stdout",
     "output_type": "stream",
     "text": [
      "put: `/user/sergey/data/201408_status_data.csv': File exists\r\n"
     ]
    }
   ],
   "source": [
    "! hadoop fs -put ./data/201408_status_data.csv /user/sergey/data/"
   ]
  },
  {
   "cell_type": "markdown",
   "metadata": {},
   "source": [
    "Проверим содержимое ` HDFS ` директории ` /user/sergey/ `:"
   ]
  },
  {
   "cell_type": "code",
   "execution_count": 9,
   "metadata": {
    "ExecuteTime": {
     "end_time": "2021-12-06T19:21:55.019133Z",
     "start_time": "2021-12-06T19:21:53.185666Z"
    }
   },
   "outputs": [
    {
     "name": "stdout",
     "output_type": "stream",
     "text": [
      "Found 1 items\r\n",
      "-rw-r--r--   3 sergey supergroup    622.8 M 2021-12-06 22:20 /user/sergey/data/201408_status_data.csv\r\n"
     ]
    }
   ],
   "source": [
    "! hadoop fs -ls -h /user/sergey/data/"
   ]
  },
  {
   "cell_type": "markdown",
   "metadata": {},
   "source": [
    "# Чтение данных из HDFS в Spark"
   ]
  },
  {
   "cell_type": "code",
   "execution_count": 3,
   "metadata": {
    "ExecuteTime": {
     "end_time": "2021-12-06T19:12:37.189854Z",
     "start_time": "2021-12-06T19:12:37.156353Z"
    }
   },
   "outputs": [
    {
     "data": {
      "text/plain": [
       "[('spark.app.startTime', '1638817948317'),\n",
       " ('spark.app.id', 'local-1638817949075'),\n",
       " ('spark.app.name', 'test'),\n",
       " ('spark.executor.id', 'driver'),\n",
       " ('spark.driver.host', '192.168.199.77'),\n",
       " ('spark.hadoop.fs.default.name', 'hdfs://localhost:9000'),\n",
       " ('spark.sql.warehouse.dir', '/user/hive/warehouse'),\n",
       " ('spark.sql.catalogImplementation', 'hive'),\n",
       " ('spark.driver.port', '36511'),\n",
       " ('spark.rdd.compress', 'True'),\n",
       " ('spark.hadoop.fs.defaultFS', 'hdfs://localhost:9000'),\n",
       " ('spark.serializer.objectStreamReset', '100'),\n",
       " ('spark.master', 'local[*]'),\n",
       " ('spark.submit.pyFiles', ''),\n",
       " ('spark.submit.deployMode', 'client'),\n",
       " ('spark.ui.showConsoleProgress', 'true')]"
      ]
     },
     "execution_count": 3,
     "metadata": {},
     "output_type": "execute_result"
    }
   ],
   "source": [
    "from pyspark.sql import SparkSession\n",
    "spark = (\n",
    "    SparkSession.builder.\n",
    "    appName(\"test\").\n",
    "    enableHiveSupport().\n",
    "    config(\"spark.sql.warehouse.dir\",\"/user/hive/warehouse\").\n",
    "    getOrCreate()\n",
    ")\n",
    "\n",
    "spark.sparkContext.getConf().getAll()"
   ]
  },
  {
   "cell_type": "code",
   "execution_count": 4,
   "metadata": {
    "ExecuteTime": {
     "end_time": "2021-12-06T19:12:50.537142Z",
     "start_time": "2021-12-06T19:12:50.528497Z"
    }
   },
   "outputs": [
    {
     "data": {
      "text/plain": [
       "'3.1.2'"
      ]
     },
     "execution_count": 4,
     "metadata": {},
     "output_type": "execute_result"
    }
   ],
   "source": [
    "spark.version"
   ]
  },
  {
   "cell_type": "markdown",
   "metadata": {},
   "source": [
    "Для чтения данных ` .csv ` формата создадим ` HiveContext `:"
   ]
  },
  {
   "cell_type": "code",
   "execution_count": 10,
   "metadata": {
    "ExecuteTime": {
     "end_time": "2021-12-06T19:23:57.226053Z",
     "start_time": "2021-12-06T19:23:55.339989Z"
    }
   },
   "outputs": [
    {
     "name": "stdout",
     "output_type": "stream",
     "text": [
      "2021-12-06 22:23:56,617 INFO sasl.SaslDataTransferClient: SASL encryption trust check: localHostTrusted = false, remoteHostTrusted = false\n",
      "\"station_id\",\"bikes_available\",\"docks_available\",\"time\"\n",
      "\"2\",\"12\",\"15\",\"2014-03-01 00:00:02\"\n",
      "\"2\",\"12\",\"15\",\"2014-03-01 00:01:03\"\n",
      "\"2\",\"12\",\"15\",\"2014-03-01 00:02:03\"\n",
      "\"2\",\"12\",\"15\",\"2014-03-01 00:03:02\"\n",
      "cat: Unable to write to output stream.\n"
     ]
    }
   ],
   "source": [
    "! hadoop fs -cat /user/sergey/data/201408_status_data.csv | head -n5"
   ]
  },
  {
   "cell_type": "markdown",
   "metadata": {},
   "source": [
    "Прочитаем данные:"
   ]
  },
  {
   "cell_type": "code",
   "execution_count": 12,
   "metadata": {
    "ExecuteTime": {
     "end_time": "2021-12-06T19:30:38.493211Z",
     "start_time": "2021-12-06T19:30:38.294025Z"
    }
   },
   "outputs": [
    {
     "name": "stdout",
     "output_type": "stream",
     "text": [
      "root\n",
      " |-- station_id: integer (nullable = true)\n",
      " |-- bikes_available: integer (nullable = true)\n",
      " |-- docks_available: integer (nullable = true)\n",
      " |-- time: timestamp (nullable = true)\n",
      "\n"
     ]
    }
   ],
   "source": [
    "path = \"hdfs:/user/sergey/data/201408_status_data.csv\"\n",
    "schema = \"station_id int, bikes_available int, docks_available int, time timestamp\"\n",
    "df = spark.read.csv(path, header=True, schema=schema)\n",
    "df.printSchema()"
   ]
  },
  {
   "cell_type": "markdown",
   "metadata": {},
   "source": [
    "Просмотрим первые 5 рядов данных, загруженных в ` DataFrame `:"
   ]
  },
  {
   "cell_type": "code",
   "execution_count": 13,
   "metadata": {
    "ExecuteTime": {
     "end_time": "2021-12-06T19:30:48.693663Z",
     "start_time": "2021-12-06T19:30:48.485047Z"
    }
   },
   "outputs": [
    {
     "name": "stdout",
     "output_type": "stream",
     "text": [
      "+----------+---------------+---------------+-------------------+\n",
      "|station_id|bikes_available|docks_available|time               |\n",
      "+----------+---------------+---------------+-------------------+\n",
      "|2         |12             |15             |2014-03-01 00:00:02|\n",
      "|2         |12             |15             |2014-03-01 00:01:03|\n",
      "|2         |12             |15             |2014-03-01 00:02:03|\n",
      "|2         |12             |15             |2014-03-01 00:03:02|\n",
      "|2         |12             |15             |2014-03-01 00:04:03|\n",
      "+----------+---------------+---------------+-------------------+\n",
      "only showing top 5 rows\n",
      "\n"
     ]
    }
   ],
   "source": [
    "df.show(5, truncate = False)"
   ]
  },
  {
   "cell_type": "markdown",
   "metadata": {},
   "source": [
    "# Аналитика"
   ]
  },
  {
   "cell_type": "code",
   "execution_count": 14,
   "metadata": {
    "ExecuteTime": {
     "end_time": "2021-12-06T19:31:06.587870Z",
     "start_time": "2021-12-06T19:31:05.180499Z"
    }
   },
   "outputs": [
    {
     "name": "stderr",
     "output_type": "stream",
     "text": [
      "                                                                                \r"
     ]
    },
    {
     "data": {
      "text/plain": [
       "18342210"
      ]
     },
     "execution_count": 14,
     "metadata": {},
     "output_type": "execute_result"
    }
   ],
   "source": [
    "df.count()"
   ]
  },
  {
   "cell_type": "code",
   "execution_count": 15,
   "metadata": {
    "ExecuteTime": {
     "end_time": "2021-12-06T19:31:36.623240Z",
     "start_time": "2021-12-06T19:31:36.613659Z"
    }
   },
   "outputs": [],
   "source": [
    "import pyspark.sql.functions as F"
   ]
  },
  {
   "cell_type": "code",
   "execution_count": 22,
   "metadata": {
    "ExecuteTime": {
     "end_time": "2021-12-06T19:35:20.436645Z",
     "start_time": "2021-12-06T19:35:20.423013Z"
    }
   },
   "outputs": [],
   "source": [
    "df.createOrReplaceTempView(\"docks\")"
   ]
  },
  {
   "cell_type": "code",
   "execution_count": null,
   "metadata": {},
   "outputs": [],
   "source": [
    "df"
   ]
  },
  {
   "cell_type": "code",
   "execution_count": 16,
   "metadata": {
    "ExecuteTime": {
     "end_time": "2021-12-06T19:31:46.241720Z",
     "start_time": "2021-12-06T19:31:42.845607Z"
    }
   },
   "outputs": [
    {
     "name": "stderr",
     "output_type": "stream",
     "text": [
      "[Stage 5:========================>                                 (5 + 7) / 12]\r"
     ]
    },
    {
     "name": "stdout",
     "output_type": "stream",
     "text": [
      "+--------------------+\n",
      "|avg(docks_available)|\n",
      "+--------------------+\n",
      "|   9.229429332670382|\n",
      "+--------------------+\n",
      "\n"
     ]
    },
    {
     "name": "stderr",
     "output_type": "stream",
     "text": [
      "\r",
      "[Stage 5:====================================================>    (11 + 1) / 12]\r",
      "\r",
      "                                                                                \r"
     ]
    }
   ],
   "source": [
    "df.select(F.avg(\"docks_available\")).show()"
   ]
  },
  {
   "cell_type": "code",
   "execution_count": 17,
   "metadata": {
    "ExecuteTime": {
     "end_time": "2021-12-06T19:32:03.958345Z",
     "start_time": "2021-12-06T19:32:00.844595Z"
    }
   },
   "outputs": [
    {
     "name": "stderr",
     "output_type": "stream",
     "text": [
      "[Stage 7:====================================================>    (11 + 1) / 12]\r"
     ]
    },
    {
     "name": "stdout",
     "output_type": "stream",
     "text": [
      "+-----------------+\n",
      "|        avg_docks|\n",
      "+-----------------+\n",
      "|9.229429332670382|\n",
      "+-----------------+\n",
      "\n"
     ]
    },
    {
     "name": "stderr",
     "output_type": "stream",
     "text": [
      "\r",
      "                                                                                \r"
     ]
    }
   ],
   "source": [
    "df.select(F.avg(\"docks_available\").alias(\"avg_docks\")).show()"
   ]
  },
  {
   "cell_type": "code",
   "execution_count": 24,
   "metadata": {
    "ExecuteTime": {
     "end_time": "2021-12-06T19:35:37.255358Z",
     "start_time": "2021-12-06T19:35:34.213010Z"
    }
   },
   "outputs": [
    {
     "name": "stderr",
     "output_type": "stream",
     "text": [
      "\r",
      "[Stage 11:>                                                       (0 + 12) / 12]\r"
     ]
    },
    {
     "name": "stdout",
     "output_type": "stream",
     "text": [
      "+-----------------+\n",
      "|        avg_docks|\n",
      "+-----------------+\n",
      "|9.229429332670382|\n",
      "+-----------------+\n",
      "\n"
     ]
    },
    {
     "name": "stderr",
     "output_type": "stream",
     "text": [
      "\r",
      "[Stage 11:============================>                            (6 + 6) / 12]\r",
      "\r",
      "                                                                                \r"
     ]
    }
   ],
   "source": [
    "spark.sql(\"select avg(docks_available) avg_docks from docks;\").show()"
   ]
  },
  {
   "cell_type": "code",
   "execution_count": 25,
   "metadata": {
    "ExecuteTime": {
     "end_time": "2021-12-06T19:39:46.230499Z",
     "start_time": "2021-12-06T19:39:42.995618Z"
    }
   },
   "outputs": [
    {
     "name": "stderr",
     "output_type": "stream",
     "text": [
      "\r",
      "[Stage 13:>                                                       (0 + 12) / 12]\r"
     ]
    },
    {
     "name": "stdout",
     "output_type": "stream",
     "text": [
      "+------------------+\n",
      "|          avg_diff|\n",
      "+------------------+\n",
      "|0.7892347759621114|\n",
      "+------------------+\n",
      "\n"
     ]
    },
    {
     "name": "stderr",
     "output_type": "stream",
     "text": [
      "\r",
      "[Stage 13:=======================>                                 (5 + 7) / 12]\r",
      "\r",
      "                                                                                \r"
     ]
    }
   ],
   "source": [
    "df.select(F.avg(F.col(\"docks_available\") - F.col(\"bikes_available\")).alias(\"avg_diff\")).show()"
   ]
  },
  {
   "cell_type": "code",
   "execution_count": 26,
   "metadata": {
    "ExecuteTime": {
     "end_time": "2021-12-06T19:40:17.423845Z",
     "start_time": "2021-12-06T19:40:17.150058Z"
    }
   },
   "outputs": [
    {
     "name": "stdout",
     "output_type": "stream",
     "text": [
      "+----------+---------------+---------------+-------------------+\n",
      "|station_id|bikes_available|docks_available|               time|\n",
      "+----------+---------------+---------------+-------------------+\n",
      "|         2|              0|             27|2014-06-13 09:22:02|\n",
      "|         2|              0|             27|2014-06-13 09:23:02|\n",
      "|         2|              0|             27|2014-06-13 09:24:03|\n",
      "|         2|              0|             27|2014-06-13 09:25:03|\n",
      "|         2|              0|             27|2014-06-13 09:26:03|\n",
      "|         2|              0|             27|2014-06-13 09:27:03|\n",
      "|         2|              0|             27|2014-06-13 09:28:03|\n",
      "|         2|              0|             27|2014-06-13 09:29:03|\n",
      "|         2|              0|             27|2014-06-13 09:30:03|\n",
      "|         2|              0|             27|2014-06-13 09:31:02|\n",
      "|         2|              0|             27|2014-06-13 09:32:02|\n",
      "|         2|              0|             27|2014-06-13 09:33:02|\n",
      "|         2|              0|             27|2014-06-13 09:34:02|\n",
      "|         2|              0|             27|2014-06-13 09:35:02|\n",
      "|         2|              0|             27|2014-06-13 09:36:04|\n",
      "|         2|              0|             27|2014-06-13 09:37:02|\n",
      "|         2|              0|             27|2014-06-13 09:38:02|\n",
      "|         2|              0|             27|2014-06-13 09:39:02|\n",
      "|         2|              0|             27|2014-06-13 09:40:03|\n",
      "|         2|              0|             27|2014-06-13 09:41:01|\n",
      "+----------+---------------+---------------+-------------------+\n",
      "only showing top 20 rows\n",
      "\n"
     ]
    }
   ],
   "source": [
    "df.filter(F.col(\"bikes_available\") == 0).show()"
   ]
  },
  {
   "cell_type": "code",
   "execution_count": 27,
   "metadata": {
    "ExecuteTime": {
     "end_time": "2021-12-06T19:40:52.106286Z",
     "start_time": "2021-12-06T19:40:48.627427Z"
    }
   },
   "outputs": [
    {
     "name": "stderr",
     "output_type": "stream",
     "text": [
      "[Stage 16:======================================>                  (8 + 4) / 12]\r"
     ]
    },
    {
     "name": "stdout",
     "output_type": "stream",
     "text": [
      "+----------+-----+\n",
      "|station_id|count|\n",
      "+----------+-----+\n",
      "|        45|10394|\n",
      "|        64| 6611|\n",
      "|        70| 6073|\n",
      "|        76| 5405|\n",
      "|        48| 5270|\n",
      "|        62| 5265|\n",
      "|        60| 5248|\n",
      "|        82| 4876|\n",
      "|        71| 4315|\n",
      "|        69| 4097|\n",
      "|        50| 4087|\n",
      "|        56| 4080|\n",
      "|        73| 3907|\n",
      "|        41| 3558|\n",
      "|        54| 3144|\n",
      "|        67| 3115|\n",
      "|        51| 2825|\n",
      "|        63| 2700|\n",
      "|         4| 2661|\n",
      "|        61| 2633|\n",
      "+----------+-----+\n",
      "only showing top 20 rows\n",
      "\n"
     ]
    },
    {
     "name": "stderr",
     "output_type": "stream",
     "text": [
      "\r",
      "                                                                                \r"
     ]
    }
   ],
   "source": [
    "(\n",
    "    df.filter(F.col(\"bikes_available\") == 0)\n",
    "    .groupby(\"station_id\")\n",
    "    .count()\n",
    "    .sort(F.desc(\"count\"))\n",
    "    .show()\n",
    ")"
   ]
  },
  {
   "cell_type": "code",
   "execution_count": 19,
   "metadata": {},
   "outputs": [
    {
     "data": {
      "image/png": "[encoded data removed]",
      "text/plain": [
       "<matplotlib.figure.Figure at 0x7f8dba3299b0>"
      ]
     },
     "metadata": {},
     "output_type": "display_data"
    }
   ],
   "source": [
    "stations = (\n",
    "    df.filter(col(\"bikes_available\") == 0)\n",
    "    .groupby(\"station_id\")\n",
    "    .count()\n",
    "    .sort(desc(\"count\"))\n",
    "    .collect()\n",
    ")\n",
    "df_plot = pd.DataFrame(\n",
    "    [(station[0], station[1]) for station in stations], columns=[\"station_id\", \"count\"]\n",
    ")\n",
    "df_plot.plot(x=\"station_id\", y=\"count\", kind=\"barh\", figsize=(5, 10), color=\"steelblue\")"
   ]
  },
  {
   "cell_type": "code",
   "execution_count": 28,
   "metadata": {
    "ExecuteTime": {
     "end_time": "2021-12-06T19:41:53.491165Z",
     "start_time": "2021-12-06T19:41:49.897376Z"
    }
   },
   "outputs": [
    {
     "name": "stderr",
     "output_type": "stream",
     "text": [
      "                                                                                \r"
     ]
    },
    {
     "data": {
      "text/plain": [
       "123468"
      ]
     },
     "execution_count": 28,
     "metadata": {},
     "output_type": "execute_result"
    }
   ],
   "source": [
    "df2 = df.filter(F.col(\"bikes_available\")==0).cache()\n",
    "df2.count()"
   ]
  },
  {
   "cell_type": "code",
   "execution_count": 30,
   "metadata": {
    "ExecuteTime": {
     "end_time": "2021-12-06T19:42:16.324017Z",
     "start_time": "2021-12-06T19:42:15.748506Z"
    }
   },
   "outputs": [
    {
     "name": "stdout",
     "output_type": "stream",
     "text": [
      "+---+-----+\n",
      "|  Q|count|\n",
      "+---+-----+\n",
      "|  1|13199|\n",
      "|  3|47138|\n",
      "|  2|63131|\n",
      "+---+-----+\n",
      "\n"
     ]
    }
   ],
   "source": [
    "df3 = df2.withColumn(\"Q\", F.quarter(F.col(\"time\")))\n",
    "df3.groupby(\"Q\").count().show()"
   ]
  }
 ],
 "metadata": {
  "anaconda-cloud": {},
  "kernelspec": {
   "display_name": "Python 3 (ipykernel)",
   "language": "python",
   "name": "python3"
  },
  "language_info": {
   "codemirror_mode": {
    "name": "ipython",
    "version": 3
   },
   "file_extension": ".py",
   "mimetype": "text/x-python",
   "name": "python",
   "nbconvert_exporter": "python",
   "pygments_lexer": "ipython3",
   "version": "3.9.7"
  },
  "toc": {
   "base_numbering": 1,
   "nav_menu": {},
   "number_sections": true,
   "sideBar": true,
   "skip_h1_title": false,
   "title_cell": "Table of Contents",
   "title_sidebar": "Contents",
   "toc_cell": true,
   "toc_position": {},
   "toc_section_display": "block",
   "toc_window_display": false
  }
 },
 "nbformat": 4,
 "nbformat_minor": 1
}
