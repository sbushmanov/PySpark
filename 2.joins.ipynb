{
 "cells": [
  {
   "cell_type": "markdown",
   "id": "8cfc7832",
   "metadata": {
    "toc": true
   },
   "source": [
    "<h1>Table of Contents<span class=\"tocSkip\"></span></h1>\n",
    "<div class=\"toc\"><ul class=\"toc-item\"><li><span><a href=\"#Inner\" data-toc-modified-id=\"Inner-1\"><span class=\"toc-item-num\">1&nbsp;&nbsp;</span>Inner</a></span></li><li><span><a href=\"#Left\" data-toc-modified-id=\"Left-2\"><span class=\"toc-item-num\">2&nbsp;&nbsp;</span>Left</a></span></li><li><span><a href=\"#Filter-with-left-semi\" data-toc-modified-id=\"Filter-with-left-semi-3\"><span class=\"toc-item-num\">3&nbsp;&nbsp;</span>Filter with left semi</a></span></li><li><span><a href=\"#What's-not-in-left--with-anti-join\" data-toc-modified-id=\"What's-not-in-left--with-anti-join-4\"><span class=\"toc-item-num\">4&nbsp;&nbsp;</span>What's not in left  with anti join</a></span></li></ul></div>"
   ]
  },
  {
   "cell_type": "code",
   "execution_count": 27,
   "id": "0787738e",
   "metadata": {
    "ExecuteTime": {
     "end_time": "2022-02-06T08:31:04.435811Z",
     "start_time": "2022-02-06T08:31:04.196474Z"
    }
   },
   "outputs": [
    {
     "name": "stdout",
     "output_type": "stream",
     "text": [
      "+---+\n",
      "|col|\n",
      "+---+\n",
      "|  1|\n",
      "|  2|\n",
      "|  3|\n",
      "+---+\n",
      "\n"
     ]
    }
   ],
   "source": [
    "spark.createDataFrame([(1,),(2,),(3,)], schema=\"col int\").show()"
   ]
  },
  {
   "cell_type": "code",
   "execution_count": 30,
   "id": "b7461b86",
   "metadata": {
    "ExecuteTime": {
     "end_time": "2022-02-06T08:51:56.168041Z",
     "start_time": "2022-02-06T08:51:56.109699Z"
    }
   },
   "outputs": [],
   "source": [
    "left  = spark.createDataFrame([(1,\"a\"),(1,\"a\"),(2,\"b\"),(3,\"c\")], schema=\"col int, left string\")\n",
    "right = spark.createDataFrame([(3,\"c\"),(3,\"c\"),(4,\"d\"),(5,\"e\")], schema=\"col int, right string\")"
   ]
  },
  {
   "cell_type": "markdown",
   "id": "07396217",
   "metadata": {},
   "source": [
    "# Inner"
   ]
  },
  {
   "cell_type": "code",
   "execution_count": 31,
   "id": "aa7d9f61",
   "metadata": {
    "ExecuteTime": {
     "end_time": "2022-02-06T08:52:01.616416Z",
     "start_time": "2022-02-06T08:52:01.351025Z"
    }
   },
   "outputs": [
    {
     "name": "stdout",
     "output_type": "stream",
     "text": [
      "+---+----+-----+\n",
      "|col|left|right|\n",
      "+---+----+-----+\n",
      "|  3|   c|    c|\n",
      "|  3|   c|    c|\n",
      "+---+----+-----+\n",
      "\n"
     ]
    }
   ],
   "source": [
    "left.join(right, on = \"col\", how = \"inner\").show()"
   ]
  },
  {
   "cell_type": "markdown",
   "id": "53c39b7d",
   "metadata": {},
   "source": [
    "# Left"
   ]
  },
  {
   "cell_type": "code",
   "execution_count": 32,
   "id": "1616c1ab",
   "metadata": {
    "ExecuteTime": {
     "end_time": "2022-02-06T08:52:26.496974Z",
     "start_time": "2022-02-06T08:52:26.236765Z"
    }
   },
   "outputs": [
    {
     "name": "stdout",
     "output_type": "stream",
     "text": [
      "+---+----+-----+\n",
      "|col|left|right|\n",
      "+---+----+-----+\n",
      "|  1|   a| null|\n",
      "|  1|   a| null|\n",
      "|  2|   b| null|\n",
      "|  3|   c|    c|\n",
      "|  3|   c|    c|\n",
      "+---+----+-----+\n",
      "\n"
     ]
    }
   ],
   "source": [
    "left.join(right, on = \"col\", how = \"left\").show()"
   ]
  },
  {
   "cell_type": "markdown",
   "id": "41db834a",
   "metadata": {},
   "source": [
    "# Filter with left semi\n",
    "\n",
    "Note no duplicates"
   ]
  },
  {
   "cell_type": "code",
   "execution_count": 25,
   "id": "18d747f7",
   "metadata": {
    "ExecuteTime": {
     "end_time": "2022-02-06T08:52:26.496974Z",
     "start_time": "2022-02-06T08:52:26.236765Z"
    }
   },
   "outputs": [
    {
     "name": "stdout",
     "output_type": "stream",
     "text": [
      "+---+----+\n",
      "|col|left|\n",
      "+---+----+\n",
      "|  3|   c|\n",
      "+---+----+\n",
      "\n"
     ]
    }
   ],
   "source": [
    "left.join(right, on = \"col\", how = \"left_semi\").show()"
   ]
  },
  {
   "cell_type": "code",
   "execution_count": 29,
   "id": "b6f53aa5",
   "metadata": {
    "ExecuteTime": {
     "end_time": "2022-02-06T08:49:16.501850Z",
     "start_time": "2022-02-06T08:49:16.470273Z"
    }
   },
   "outputs": [
    {
     "name": "stdout",
     "output_type": "stream",
     "text": [
      "== Parsed Logical Plan ==\n",
      "'Join UsingJoin(LeftSemi,Buffer(col))\n",
      ":- LogicalRDD [col#67, left#68], false\n",
      "+- LogicalRDD [col#71, right#72], false\n",
      "\n",
      "== Analyzed Logical Plan ==\n",
      "col: int, left: string\n",
      "Project [col#67, left#68]\n",
      "+- Join LeftSemi, (col#67 = col#71)\n",
      "   :- LogicalRDD [col#67, left#68], false\n",
      "   +- LogicalRDD [col#71, right#72], false\n",
      "\n",
      "== Optimized Logical Plan ==\n",
      "Join LeftSemi, (col#67 = col#71)\n",
      ":- Filter isnotnull(col#67)\n",
      ":  +- LogicalRDD [col#67, left#68], false\n",
      "+- Project [col#71]\n",
      "   +- Filter isnotnull(col#71)\n",
      "      +- LogicalRDD [col#71, right#72], false\n",
      "\n",
      "== Physical Plan ==\n",
      "AdaptiveSparkPlan isFinalPlan=false\n",
      "+- SortMergeJoin [col#67], [col#71], LeftSemi\n",
      "   :- Sort [col#67 ASC NULLS FIRST], false, 0\n",
      "   :  +- Exchange hashpartitioning(col#67, 200), ENSURE_REQUIREMENTS, [id=#920]\n",
      "   :     +- Filter isnotnull(col#67)\n",
      "   :        +- Scan ExistingRDD[col#67,left#68]\n",
      "   +- Sort [col#71 ASC NULLS FIRST], false, 0\n",
      "      +- Exchange hashpartitioning(col#71, 200), ENSURE_REQUIREMENTS, [id=#921]\n",
      "         +- Project [col#71]\n",
      "            +- Filter isnotnull(col#71)\n",
      "               +- Scan ExistingRDD[col#71,right#72]\n",
      "\n"
     ]
    }
   ],
   "source": [
    "left.join(right, on = \"col\", how = \"left_semi\").explain(True)"
   ]
  },
  {
   "cell_type": "markdown",
   "id": "0b521c53",
   "metadata": {},
   "source": [
    "# What's not in left  with anti join"
   ]
  },
  {
   "cell_type": "code",
   "execution_count": 26,
   "id": "fdd9abf4",
   "metadata": {
    "ExecuteTime": {
     "end_time": "2022-02-06T08:52:26.496974Z",
     "start_time": "2022-02-06T08:52:26.236765Z"
    }
   },
   "outputs": [
    {
     "name": "stdout",
     "output_type": "stream",
     "text": [
      "+---+----+\n",
      "|col|left|\n",
      "+---+----+\n",
      "|  1|   a|\n",
      "|  2|   b|\n",
      "+---+----+\n",
      "\n"
     ]
    }
   ],
   "source": [
    "left.join(right, on = \"col\", how = \"left_anti\").show()"
   ]
  }
 ],
 "metadata": {
  "kernelspec": {
   "display_name": "pySpark (Spark 3.2.1)",
   "language": "python",
   "name": "pyspark"
  },
  "language_info": {
   "codemirror_mode": {
    "name": "ipython",
    "version": 3
   },
   "file_extension": ".py",
   "mimetype": "text/x-python",
   "name": "python",
   "nbconvert_exporter": "python",
   "pygments_lexer": "ipython3",
   "version": "3.9.10"
  },
  "toc": {
   "base_numbering": 1,
   "nav_menu": {},
   "number_sections": true,
   "sideBar": true,
   "skip_h1_title": false,
   "title_cell": "Table of Contents",
   "title_sidebar": "Contents",
   "toc_cell": true,
   "toc_position": {},
   "toc_section_display": true,
   "toc_window_display": false
  }
 },
 "nbformat": 4,
 "nbformat_minor": 5
}
